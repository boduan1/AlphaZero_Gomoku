{
 "cells": [
  {
   "cell_type": "code",
   "execution_count": 1,
   "metadata": {},
   "outputs": [],
   "source": [
    "from __future__ import print_function\n",
    "import random\n",
    "import numpy as np\n",
    "from collections import defaultdict, deque\n",
    "from game import Board, Game\n",
    "from mcts_pure import MCTSPlayer as MCTS_Pure\n",
    "from mcts_alphaZero import MCTSPlayer\n",
    "from policy_value_net_pytorch import PolicyValueNet "
   ]
  },
  {
   "cell_type": "code",
   "execution_count": 21,
   "metadata": {},
   "outputs": [
    {
     "data": {
      "text/plain": [
       "array([[ 0.,  0.,  0.,  0.,  0.],\n",
       "       [ 0.,  1.,  2.,  3.,  4.],\n",
       "       [ 5.,  6.,  7.,  8.,  9.],\n",
       "       [10., 11., 12., 13., 14.],\n",
       "       [15., 16., 17., 18., 19.]])"
      ]
     },
     "execution_count": 21,
     "metadata": {},
     "output_type": "execute_result"
    }
   ],
   "source": [
    "a = np.arange(25)\n",
    "a = a.reshape(5,5)\n",
    "l = a.shape[0]\n",
    "b = np.zeros([l,l])\n",
    "b[1:l,:] = a[0:l-1,:]\n",
    "b"
   ]
  },
  {
   "cell_type": "code",
   "execution_count": 6,
   "metadata": {},
   "outputs": [
    {
     "name": "stdout",
     "output_type": "stream",
     "text": [
      "0\n",
      "1\n",
      "2\n",
      "3\n",
      "4\n",
      "5\n",
      "6\n",
      "7\n",
      "8\n",
      "9\n",
      "black: \n",
      "num_playouts:10, win: 6, lose: 4, tie:0\n"
     ]
    }
   ],
   "source": [
    "board = Board(width=6,height=6,n_in_row=4)\n",
    "game = Game(board)\n",
    "policy_value_net = PolicyValueNet(6,6,model_file='best_b_policy.model')\n",
    "\n",
    "current_mcts_player = MCTSPlayer(policy_value_net.policy_value_fn,c_puct=5,n_playout=400)\n",
    "pure_mcts_player = MCTS_Pure(c_puct=5,n_playout=1000)\n",
    "win_cnt = defaultdict(int)\n",
    "\n",
    "n_games = 10\n",
    "for i in range(n_games):\n",
    "    print(i)\n",
    "    winner = game.start_play(current_mcts_player,pure_mcts_player,start_player=0,is_shown=0)\n",
    "    win_cnt[winner] += 1\n",
    "win_ratio = win_cnt[1] / n_games\n",
    "print('black: ')\n",
    "print(\"num_playouts:{}, win: {}, lose: {}, tie:{}\".format(10,win_cnt[1], win_cnt[2], win_cnt[-1]))"
   ]
  },
  {
   "cell_type": "code",
   "execution_count": null,
   "metadata": {},
   "outputs": [],
   "source": [
    "board = Board(width=6,height=6,n_in_row=4)\n",
    "game = Game(board)\n",
    "policy_value_net = PolicyValueNet(6,6,model_file='best_w_policy.model')\n",
    "\n",
    "current_mcts_player = MCTSPlayer(policy_value_net.policy_value_fn,c_puct=5,n_playout=400)\n",
    "pure_mcts_player = MCTS_Pure(c_puct=5,n_playout=1000)\n",
    "win_cnt = defaultdict(int)\n",
    "\n",
    "n_games = 10\n",
    "for i in range(n_games):\n",
    "    print(i)\n",
    "    winner = game.start_play(current_mcts_player,pure_mcts_player,start_player=1,is_shown=0)\n",
    "    win_cnt[winner] += 1\n",
    "win_ratio = win_cnt[1] / n_games\n",
    "print('white: ')\n",
    "print(\"num_playouts:{}, win: {}, lose: {}, tie:{}\".format(10,win_cnt[1], win_cnt[2], win_cnt[-1]))"
   ]
  }
 ],
 "metadata": {
  "kernelspec": {
   "display_name": "Python 3",
   "language": "python",
   "name": "python3"
  },
  "language_info": {
   "codemirror_mode": {
    "name": "ipython",
    "version": 3
   },
   "file_extension": ".py",
   "mimetype": "text/x-python",
   "name": "python",
   "nbconvert_exporter": "python",
   "pygments_lexer": "ipython3",
   "version": "3.7.6"
  }
 },
 "nbformat": 4,
 "nbformat_minor": 4
}
